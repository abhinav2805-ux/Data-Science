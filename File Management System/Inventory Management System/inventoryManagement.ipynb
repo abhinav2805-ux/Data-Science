{
 "cells": [
  {
   "cell_type": "code",
   "execution_count": 1,
   "metadata": {},
   "outputs": [],
   "source": [
    "fd = open(\"inventory.txt\", \"w\")\n",
    "fd.close()"
   ]
  },
  {
   "cell_type": "markdown",
   "metadata": {},
   "source": [
    "# Product details \n",
    "1. Product id\n",
    "2. Name of the product\n",
    "3. price of the product\n",
    "4. quantity of the product"
   ]
  },
  {
   "cell_type": "code",
   "execution_count": null,
   "metadata": {},
   "outputs": [
    {
     "name": "stdout",
     "output_type": "stream",
     "text": [
      "1,5 star,5,100\n",
      "2,Milky Bar,10,100\n",
      "3,Cake,300,5\n",
      "4,Candy,1,200\n"
     ]
    }
   ],
   "source": [
    "fd = open(\"inventory.txt\", \"r\")\n",
    "txt = fd.read()\n",
    "print(txt)\n",
    "fd.close()"
   ]
  },
  {
   "cell_type": "code",
   "execution_count": 15,
   "metadata": {},
   "outputs": [
    {
     "name": "stdout",
     "output_type": "stream",
     "text": [
      "number of unique products:- 4\n",
      "{'5 star', 'Candy', 'Cake', 'Milky Bar'}\n"
     ]
    }
   ],
   "source": [
    "# check the unique product \n",
    "lst = txt.split(\",\")\n",
    "lst1 = []\n",
    "for i in range(1,len(lst),3):\n",
    "    lst1.append(lst[i])\n",
    "st = set(lst1)\n",
    "print(\"number of unique products:-\",len(st))\n",
    "print(st)    \n"
   ]
  },
  {
   "cell_type": "code",
   "execution_count": 22,
   "metadata": {},
   "outputs": [
    {
     "name": "stdout",
     "output_type": "stream",
     "text": [
      "['1,5 star,5,100', '2,Milky Bar,10,100', '3,Cake,300,5', '4,Candy,1,200']\n",
      "[['1', '5 star', '5', '100'], ['2', 'Milky Bar', '10', '100'], ['3', 'Cake', '300', '5'], ['4', 'Candy', '1', '200']]\n"
     ]
    }
   ],
   "source": [
    "product = txt.split(\"\\n\")\n",
    "print(product)\n",
    "lstProduct = []\n",
    "for p in product:\n",
    "    lstProduct.append(p.split(\",\"))\n",
    "print(lstProduct)    "
   ]
  },
  {
   "cell_type": "code",
   "execution_count": 35,
   "metadata": {},
   "outputs": [
    {
     "name": "stdout",
     "output_type": "stream",
     "text": [
      "--------------------------------\n",
      "Name of desired Product - Milky Bar\n",
      "Price of the Product - 10 Rs\n",
      "quantity of product - 45\n",
      "Billing Amount - 450 Rs\n",
      "--------------------------------\n"
     ]
    }
   ],
   "source": [
    "ui_prod_id = input(\"enter the product id:- \")\n",
    "ui_prod_qn = input(\"enter the product Quantity:- \")\n",
    "\n",
    "for p in product:\n",
    "    prod_details = p.split(',')\n",
    "    if(prod_details[0]== ui_prod_id):\n",
    "        print(\"--------------------------------\")\n",
    "        print(\"Name of desired Product -\",prod_details[1])\n",
    "        print(\"Price of the Product -\",prod_details[2],\"Rs\")\n",
    "        print(\"quantity of product -\",ui_prod_qn)\n",
    "        print(\"Billing Amount -\",int(ui_prod_qn) * int(prod_details[2]),\"Rs\")\n",
    "        print(\"--------------------------------\")"
   ]
  }
 ],
 "metadata": {
  "kernelspec": {
   "display_name": "Python 3",
   "language": "python",
   "name": "python3"
  },
  "language_info": {
   "codemirror_mode": {
    "name": "ipython",
    "version": 3
   },
   "file_extension": ".py",
   "mimetype": "text/x-python",
   "name": "python",
   "nbconvert_exporter": "python",
   "pygments_lexer": "ipython3",
   "version": "3.12.1"
  }
 },
 "nbformat": 4,
 "nbformat_minor": 2
}
