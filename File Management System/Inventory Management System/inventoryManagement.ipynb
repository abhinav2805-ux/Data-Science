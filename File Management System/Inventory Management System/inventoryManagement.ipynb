{
 "cells": [
  {
   "cell_type": "code",
   "execution_count": 1,
   "metadata": {},
   "outputs": [],
   "source": [
    "# fd = open(\"inventory.txt\", \"w\")\n",
    "# fd.close()"
   ]
  },
  {
   "cell_type": "markdown",
   "metadata": {},
   "source": [
    "# Product details \n",
    "1. Product id\n",
    "2. Name of the product\n",
    "3. price of the product\n",
    "4. quantity of the product"
   ]
  },
  {
   "cell_type": "code",
   "execution_count": 2,
   "metadata": {},
   "outputs": [
    {
     "name": "stdout",
     "output_type": "stream",
     "text": [
      "1,5 star,5,97\n",
      "2,Milky bar,10,66\n",
      "3,Cake,300,6\n",
      "4,Biscuit,50,40\n",
      "\n"
     ]
    }
   ],
   "source": [
    "fd = open(\"inventory.txt\", \"r\")\n",
    "txt = fd.read()\n",
    "print(txt)\n",
    "fd.close()"
   ]
  },
  {
   "cell_type": "code",
   "execution_count": 3,
   "metadata": {},
   "outputs": [
    {
     "name": "stdout",
     "output_type": "stream",
     "text": [
      "number of unique products:- 4\n",
      "{'Biscuit', 'Milky bar', 'Cake', '5 star'}\n"
     ]
    }
   ],
   "source": [
    "# check the unique product \n",
    "lst = txt.split(\",\")\n",
    "lst1 = []\n",
    "for i in range(1,len(lst),3):\n",
    "    lst1.append(lst[i])\n",
    "st = set(lst1)\n",
    "print(\"number of unique products:-\",len(st))\n",
    "print(st)    \n"
   ]
  },
  {
   "cell_type": "code",
   "execution_count": 4,
   "metadata": {},
   "outputs": [
    {
     "name": "stdout",
     "output_type": "stream",
     "text": [
      "['1,5 star,5,97', '2,Milky bar,10,66', '3,Cake,300,6', '4,Biscuit,50,40', '']\n",
      "[['1', '5 star', '5', '97'], ['2', 'Milky bar', '10', '66'], ['3', 'Cake', '300', '6'], ['4', 'Biscuit', '50', '40'], ['']]\n"
     ]
    }
   ],
   "source": [
    "product = txt.split(\"\\n\")\n",
    "print(product)\n",
    "lstProduct = []\n",
    "for p in product:\n",
    "    lstProduct.append(p.split(\",\"))\n",
    "print(lstProduct)    "
   ]
  },
  {
   "cell_type": "code",
   "execution_count": 5,
   "metadata": {},
   "outputs": [
    {
     "name": "stdout",
     "output_type": "stream",
     "text": [
      "--------------------------------\n",
      "Name of desired Product - 5 star\n",
      "Price of the Product - 5 Rs\n",
      "quantity of product - 5\n",
      "Billing Amount - 25 Rs\n",
      "--------------------------------\n"
     ]
    }
   ],
   "source": [
    "ui_prod_id = input(\"enter the product id:- \")\n",
    "ui_prod_qn = input(\"enter the product Quantity:- \")\n",
    "\n",
    "for p in product:\n",
    "    prod_details = p.split(',')\n",
    "    if(prod_details[0]== ui_prod_id):\n",
    "        print(\"--------------------------------\")\n",
    "        print(\"Name of desired Product -\",prod_details[1])\n",
    "        print(\"Price of the Product -\",prod_details[2],\"Rs\")\n",
    "        print(\"quantity of product -\",ui_prod_qn)\n",
    "        print(\"Billing Amount -\",int(ui_prod_qn) * int(prod_details[2]),\"Rs\")\n",
    "        print(\"--------------------------------\")"
   ]
  },
  {
   "cell_type": "markdown",
   "metadata": {},
   "source": [
    "# Updating the Inventory\n",
    "# and also updating the inventory.txt"
   ]
  },
  {
   "cell_type": "code",
   "execution_count": 11,
   "metadata": {},
   "outputs": [
    {
     "name": "stdout",
     "output_type": "stream",
     "text": [
      "--------------------------------\n",
      "Name of desired Product - Biscuit\n",
      "Price of the Product - 50 Rs\n",
      "Quantity of product - 2\n",
      "--------------------------------\n",
      "Billing Amount - 100 Rs\n",
      "--------------------------------\n",
      "1,5 star,5,86\n",
      "2,Milky bar,10,62\n",
      "3,Cake,300,4\n",
      "4,Biscuit,50,38\n"
     ]
    }
   ],
   "source": [
    "import time\n",
    "# Read inventory data from the file\n",
    "try:\n",
    "    with open(\"inventory.txt\", \"r\") as fd:\n",
    "        product = [line.strip() for line in fd.readlines()]\n",
    "except FileNotFoundError:\n",
    "    print(\"Error: inventory.txt file not found.\")\n",
    "    product = []  # Initialize as an empty list if file not found\n",
    "\n",
    "# Get input from the user\n",
    "ui_username = input(\"Enter your Name: \")\n",
    "ui_phone = input(\"Enter your Phone No: \")\n",
    "ui_mail = input(\"Enter your Email id: \")\n",
    "ui_prod_id = input(\"Enter the product ID: \")\n",
    "ui_prod_qn = input(\"Enter the product quantity: \")\n",
    "\n",
    "# Initialize an empty list to store updated product data\n",
    "updated_product_lst = []\n",
    "\n",
    "for p in product:\n",
    "    prod_details = p.split(',')\n",
    "    if prod_details[0] == ui_prod_id:\n",
    "        if(prod_details[3]>=ui_prod_qn):\n",
    "            print(\"--------------------------------\")\n",
    "            print(\"Name of desired Product -\", prod_details[1])\n",
    "            print(\"Price of the Product -\", prod_details[2], \"Rs\")\n",
    "            print(\"Quantity of product -\", ui_prod_qn)\n",
    "            print(\"--------------------------------\")\n",
    "            print(\"Billing Amount -\", int(ui_prod_qn) * int(prod_details[2]), \"Rs\")\n",
    "            print(\"--------------------------------\")\n",
    "            # Update the quantity in stock\n",
    "            prod_details[3] = str(int(prod_details[3]) - int(ui_prod_qn))\n",
    "            \n",
    "            # add the user details into the sales.txt\n",
    "            \n",
    "            fd = open(\"sales.txt\",\"a\")\n",
    "            sales_detail = ui_username + ',' + ui_phone + ',' + ui_mail + ',' + ui_prod_id + ',' + ui_prod_qn + ',' + str(int(ui_prod_qn) * int(prod_details[2])) + ',' + time.ctime() +'\\n'\n",
    "            fd.write(sales_detail)\n",
    "            fd.close()\n",
    "        else:\n",
    "            print(\"No enough quantity Available\")\n",
    "        \n",
    "        \n",
    "    updated_product_lst.append(prod_details)\n",
    "\n",
    "# Write updated data back to the file\n",
    "with open(\"inventory.txt\", \"w\") as fd:\n",
    "    for i in updated_product_lst:\n",
    "        fd.write(i[0] + \",\" + i[1] + \",\" + i[2] + \",\" + i[3] + '\\n')\n",
    "        print(i[0] + \",\" + i[1] + \",\" + i[2] + \",\" + i[3])\n",
    "\n",
    "# Update the in-memory product list\n",
    "product = updated_product_lst\n"
   ]
  },
  {
   "cell_type": "code",
   "execution_count": null,
   "metadata": {},
   "outputs": [],
   "source": []
  }
 ],
 "metadata": {
  "kernelspec": {
   "display_name": "Python 3",
   "language": "python",
   "name": "python3"
  },
  "language_info": {
   "codemirror_mode": {
    "name": "ipython",
    "version": 3
   },
   "file_extension": ".py",
   "mimetype": "text/x-python",
   "name": "python",
   "nbconvert_exporter": "python",
   "pygments_lexer": "ipython3",
   "version": "3.12.1"
  }
 },
 "nbformat": 4,
 "nbformat_minor": 2
}
