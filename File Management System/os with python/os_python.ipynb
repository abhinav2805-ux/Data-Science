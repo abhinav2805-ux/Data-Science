{
 "cells": [
  {
   "cell_type": "code",
   "execution_count": 2,
   "metadata": {},
   "outputs": [],
   "source": [
    "import os"
   ]
  },
  {
   "cell_type": "code",
   "execution_count": 4,
   "metadata": {},
   "outputs": [
    {
     "data": {
      "text/plain": [
       "'d:\\\\OneDrive\\\\Desktop\\\\Machine Learning\\\\File Management System\\\\os with python'"
      ]
     },
     "execution_count": 4,
     "metadata": {},
     "output_type": "execute_result"
    }
   ],
   "source": [
    "os.getcwd()"
   ]
  },
  {
   "cell_type": "code",
   "execution_count": 5,
   "metadata": {},
   "outputs": [
    {
     "data": {
      "text/plain": [
       "'d:\\\\OneDrive\\\\Desktop\\\\Machine Learning\\\\File Management System\\\\os with python'"
      ]
     },
     "execution_count": 5,
     "metadata": {},
     "output_type": "execute_result"
    }
   ],
   "source": [
    "pwd"
   ]
  },
  {
   "cell_type": "code",
   "execution_count": 6,
   "metadata": {},
   "outputs": [
    {
     "name": "stdout",
     "output_type": "stream",
     "text": [
      " Volume in drive D is Data\n",
      " Volume Serial Number is E83F-1A22\n",
      "\n",
      " Directory of d:\\OneDrive\\Desktop\\Machine Learning\\File Management System\\os with python\n",
      "\n",
      "11/07/2024  12:22 PM    <DIR>          .\n",
      "11/07/2024  12:22 PM    <DIR>          ..\n",
      "11/07/2024  12:26 PM             1,468 os_python.ipynb\n",
      "               1 File(s)          1,468 bytes\n",
      "               2 Dir(s)  271,788,187,648 bytes free\n"
     ]
    }
   ],
   "source": [
    "ls"
   ]
  },
  {
   "cell_type": "code",
   "execution_count": null,
   "metadata": {},
   "outputs": [],
   "source": [
    "os.chdir(\"nname of the dir you want to go\")"
   ]
  },
  {
   "cell_type": "code",
   "execution_count": null,
   "metadata": {},
   "outputs": [],
   "source": [
    "# back cd ..\n",
    "os.chdir(\"../\")"
   ]
  },
  {
   "cell_type": "code",
   "execution_count": null,
   "metadata": {},
   "outputs": [],
   "source": [
    "os.mkdir(\" name of directory \")"
   ]
  },
  {
   "cell_type": "code",
   "execution_count": 7,
   "metadata": {},
   "outputs": [
    {
     "data": {
      "text/plain": [
       "'gfg\\\\gfg'"
      ]
     },
     "execution_count": 7,
     "metadata": {},
     "output_type": "execute_result"
    }
   ],
   "source": [
    "os.path.join(\"gfg\",\"gfg\")"
   ]
  },
  {
   "cell_type": "code",
   "execution_count": null,
   "metadata": {},
   "outputs": [],
   "source": [
    "# remove dir\n",
    "rm -r gfg\n",
    "os.rmdir(\"gfg\")\n",
    "os.remove(\"name of directory\")"
   ]
  },
  {
   "cell_type": "code",
   "execution_count": null,
   "metadata": {},
   "outputs": [],
   "source": [
    "os.listdir(\"folder name\") # see the dir inside any folder"
   ]
  },
  {
   "cell_type": "code",
   "execution_count": null,
   "metadata": {},
   "outputs": [],
   "source": [
    "os.rename(\"file.txt\" , \"f.txt\")"
   ]
  },
  {
   "cell_type": "code",
   "execution_count": null,
   "metadata": {},
   "outputs": [],
   "source": [
    "os.path.exists(\"/path/../.../../...\")"
   ]
  },
  {
   "cell_type": "markdown",
   "metadata": {},
   "source": [
    "# bulk text file reading"
   ]
  },
  {
   "cell_type": "code",
   "execution_count": null,
   "metadata": {},
   "outputs": [],
   "source": [
    "for i in range(0,100):\n",
    "    name = \"files\"+str(i)\n",
    "    fd = open(name, \"r\")\n",
    "    content = fd.read()\n",
    "    print(content)\n",
    "    fd.close()\n"
   ]
  },
  {
   "cell_type": "markdown",
   "metadata": {},
   "source": [
    "# bulk text-file data combining"
   ]
  },
  {
   "cell_type": "code",
   "execution_count": null,
   "metadata": {},
   "outputs": [],
   "source": [
    "files = os.listdir('Files')\n",
    "\n",
    "\n",
    "fd_write = open('Data.txt','a')\n",
    "\n",
    "for i in files:\n",
    "    if i != '.DS_Store':\n",
    "        \n",
    "        fd_read = open('Files/'+i,'r')\n",
    "             \n",
    "        fd_write.write(fd_read.read())\n",
    "        \n",
    "        fd_read.close()\n",
    "        \n",
    "fd_write.close()\n",
    "txt = ''\n",
    "\n",
    "for i in files:\n",
    "    if i != '.DS_Store':\n",
    "        \n",
    "        fd_read = open('Files/'+i,'r')\n",
    "        txt += fd_read.read()\n",
    "        fd_read.close()\n",
    "\n",
    "\n",
    "type(txt)\n",
    "# str\n",
    "\n",
    "fd_write = open('Data1.txt','a')\n",
    "\n",
    "fd_write.write(txt)\n",
    "\n",
    "fd_write.close()"
   ]
  }
 ],
 "metadata": {
  "kernelspec": {
   "display_name": "Python 3",
   "language": "python",
   "name": "python3"
  },
  "language_info": {
   "codemirror_mode": {
    "name": "ipython",
    "version": 3
   },
   "file_extension": ".py",
   "mimetype": "text/x-python",
   "name": "python",
   "nbconvert_exporter": "python",
   "pygments_lexer": "ipython3",
   "version": "3.12.1"
  }
 },
 "nbformat": 4,
 "nbformat_minor": 2
}
