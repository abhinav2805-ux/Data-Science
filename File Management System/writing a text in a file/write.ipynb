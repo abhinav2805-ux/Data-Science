{
 "cells": [
  {
   "cell_type": "code",
   "execution_count": 1,
   "id": "7c535418-3f41-4813-b601-b063ee2532cb",
   "metadata": {},
   "outputs": [
    {
     "name": "stdout",
     "output_type": "stream",
     "text": [
      "jo bhi likhna h isme likho \n"
     ]
    }
   ],
   "source": [
    "fd = open(\"demo.txt\",'r')\n",
    "print(fd.read())\n",
    "fd.close()"
   ]
  },
  {
   "cell_type": "code",
   "execution_count": 4,
   "id": "96ecf7d5-32d7-424b-8a50-ed3dc0cbdac6",
   "metadata": {},
   "outputs": [
    {
     "data": {
      "text/plain": [
       "['.ipynb_checkpoints', 'demo.txt', 'write.ipynb']"
      ]
     },
     "execution_count": 4,
     "metadata": {},
     "output_type": "execute_result"
    }
   ],
   "source": [
    "import os\n",
    "\n",
    "# List all files and directories in the current directory\n",
    "files = os.listdir('.')\n",
    "files\n"
   ]
  },
  {
   "cell_type": "markdown",
   "id": "f1b038da-8da3-4ef3-867b-b920989ad80a",
   "metadata": {},
   "source": [
    "# create a file\n"
   ]
  },
  {
   "cell_type": "code",
   "execution_count": 5,
   "id": "9c6d0374-84a0-445a-af42-252ccf9da803",
   "metadata": {},
   "outputs": [],
   "source": [
    "fd = open('data.txt','w')\n",
    "fd.close()"
   ]
  },
  {
   "cell_type": "markdown",
   "id": "61ffad34-76c7-4949-a6ad-3bfea0fe395f",
   "metadata": {},
   "source": [
    "## to write something"
   ]
  },
  {
   "cell_type": "code",
   "execution_count": 8,
   "id": "19e8eb88-e12a-4252-bff3-a16446b0ae42",
   "metadata": {},
   "outputs": [],
   "source": [
    "fd = open('data.txt','w')\n",
    "fd.write(\"hello this is a testing file created by lord\")\n",
    "fd.close()"
   ]
  },
  {
   "cell_type": "markdown",
   "id": "b382ddc7-e2f8-49d2-94a5-fda8e44d7e34",
   "metadata": {},
   "source": [
    "## append line"
   ]
  },
  {
   "cell_type": "code",
   "execution_count": 11,
   "id": "0427b6b4-4788-4f47-9de6-b84324fd1352",
   "metadata": {},
   "outputs": [],
   "source": [
    "fd = open('data.txt','a')\n",
    "fd.write(\"hello this is a testing file created by lord\")\n",
    "fd.close()"
   ]
  },
  {
   "cell_type": "markdown",
   "id": "3e68ca15-5f03-4ee8-a52f-55305f453df4",
   "metadata": {},
   "source": [
    "## add the enter in the file"
   ]
  },
  {
   "cell_type": "code",
   "execution_count": 12,
   "id": "2b195cdf-dfb7-452a-a3f9-22e6812ed375",
   "metadata": {},
   "outputs": [
    {
     "name": "stdin",
     "output_type": "stream",
     "text": [
      "Enter the text:-  hello everyone \n"
     ]
    }
   ],
   "source": [
    "fd = open('data.txt','a')\n",
    "txt = input(\"Enter the text:- \")\n",
    "txt = txt + '.\\n'\n",
    "fd.write(txt)\n",
    "fd.close()"
   ]
  },
  {
   "cell_type": "code",
   "execution_count": null,
   "id": "5b3a4b64-1293-4583-b147-f48a90ce78f3",
   "metadata": {},
   "outputs": [],
   "source": []
  }
 ],
 "metadata": {
  "kernelspec": {
   "display_name": "Python 3 (ipykernel)",
   "language": "python",
   "name": "python3"
  },
  "language_info": {
   "codemirror_mode": {
    "name": "ipython",
    "version": 3
   },
   "file_extension": ".py",
   "mimetype": "text/x-python",
   "name": "python",
   "nbconvert_exporter": "python",
   "pygments_lexer": "ipython3",
   "version": "3.11.7"
  }
 },
 "nbformat": 4,
 "nbformat_minor": 5
}
