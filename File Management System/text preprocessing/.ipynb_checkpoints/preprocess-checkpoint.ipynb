{
 "cells": [
  {
   "cell_type": "code",
   "execution_count": 2,
   "id": "608c75fc-f52b-421e-89db-d482e4fd1f87",
   "metadata": {},
   "outputs": [
    {
     "name": "stdout",
     "output_type": "stream",
     "text": [
      "Coronavirus disease 2019 (COVID-19) is a contagious disease caused by the coronavirus SARS-CoV-2. The first known case was identified in Wuhan, China, in December 2019.[7] Most scientists believe the SARS-CoV-2 virus entered into human populations through natural zoonosis, similar to the SARS-CoV-1 and MERS-CoV outbreaks, and consistent with other pandemics in human history.[8][9] Social and environmental factors including climate change, natural ecosystem destruction and wildlife trade increased the likelihood of such zoonotic spillover.[10][11][12][13] The disease quickly spread worldwide, resulting in the COVID-19 pandemic.\n",
      "\n",
      "The symptoms of COVIDâ€‘19 are variable but often include fever,[14] fatigue, cough, breathing difficulties, loss of smell, and loss of taste.[15][16][17] Symptoms may begin one to fourteen days after exposure to the virus. At least a third of people who are infected do not develop noticeable symptoms.[18][19] Of those who develop symptoms noticeable enough to be classified as patients, most (81%) develop mild to moderate symptoms (up to mild pneumonia), while 14% develop severe symptoms (dyspnea, hypoxia, or more than 50% lung involvement on imaging), and 5% develop critical symptoms (respiratory failure, shock, or multiorgan dysfunction).[20] Older people are at a higher risk of developing severe symptoms. Some complications result in death. Some people continue to experience a range of effects (long COVID) for months or years after infection, and damage to organs has been observed.[21] Multi-year studies are underway to further investigate the long-term effects of the disease.[22]\n",
      "\n",
      "COVIDâ€‘19 transmission occurs when infectious particles are breathed in or come into contact with the eyes, nose, or mouth. The risk is highest when people are in close proximity, but small airborne particles containing the virus can remain suspended in the air and travel over longer distances, particularly indoors. Transmission can also occur when people touch their eyes, nose or mouth after touching surfaces or objects that have been contaminated by the virus. People remain contagious for up to 20 days and can spread the virus even if they do not develop symptoms.[23]\n",
      "\n",
      "Testing methods for COVID-19 to detect the virus's nucleic acid include real-time reverse transcription polymerase chain reaction (RTâ€‘PCR),[24][25] transcription-mediated amplification,[24][25][26] and reverse transcription loop-mediated isothermal amplification (RTâ€‘LAMP)[24][25] from a nasopharyngeal swab.[27]\n",
      "\n",
      "Several COVID-19 vaccines have been approved and distributed in various countries, many of which have initiated mass vaccination campaigns. Other preventive measures include physical or social distancing, quarantining, ventilation of indoor spaces, use of face masks or coverings in public, covering coughs and sneezes, hand washing, and keeping unwashed hands away from the face. While drugs have been developed to inhibit the virus, the primary treatment is still symptomatic, managing the disease through supportive care, isolation, and experimental measures.\n"
     ]
    }
   ],
   "source": [
    "fd = open(\"preprocessing.txt\",'r')\n",
    "txt = fd.read()\n",
    "print(txt)\n",
    "fd.close()"
   ]
  },
  {
   "cell_type": "markdown",
   "id": "d9327f12-21fa-4a30-900a-761c55575167",
   "metadata": {},
   "source": [
    "# Count no of paragraph"
   ]
  },
  {
   "cell_type": "code",
   "execution_count": 4,
   "id": "427239fc-57cc-4e1f-85bd-b632310375fa",
   "metadata": {},
   "outputs": [
    {
     "name": "stdout",
     "output_type": "stream",
     "text": [
      "4\n"
     ]
    }
   ],
   "source": [
    "print(txt.count('\\n\\n'))"
   ]
  },
  {
   "cell_type": "code",
   "execution_count": 5,
   "id": "4512f3a1-3a10-4a22-b023-cf671f0c618b",
   "metadata": {},
   "outputs": [
    {
     "data": {
      "text/plain": [
       "\"Coronavirus disease 2019 (COVID-19) is a contagious disease caused by the coronavirus SARS-CoV-2. The first known case was identified in Wuhan, China, in December 2019.[7] Most scientists believe the SARS-CoV-2 virus entered into human populations through natural zoonosis, similar to the SARS-CoV-1 and MERS-CoV outbreaks, and consistent with other pandemics in human history.[8][9] Social and environmental factors including climate change, natural ecosystem destruction and wildlife trade increased the likelihood of such zoonotic spillover.[10][11][12][13] The disease quickly spread worldwide, resulting in the COVID-19 pandemic.\\n\\nThe symptoms of COVIDâ€‘19 are variable but often include fever,[14] fatigue, cough, breathing difficulties, loss of smell, and loss of taste.[15][16][17] Symptoms may begin one to fourteen days after exposure to the virus. At least a third of people who are infected do not develop noticeable symptoms.[18][19] Of those who develop symptoms noticeable enough to be classified as patients, most (81%) develop mild to moderate symptoms (up to mild pneumonia), while 14% develop severe symptoms (dyspnea, hypoxia, or more than 50% lung involvement on imaging), and 5% develop critical symptoms (respiratory failure, shock, or multiorgan dysfunction).[20] Older people are at a higher risk of developing severe symptoms. Some complications result in death. Some people continue to experience a range of effects (long COVID) for months or years after infection, and damage to organs has been observed.[21] Multi-year studies are underway to further investigate the long-term effects of the disease.[22]\\n\\nCOVIDâ€‘19 transmission occurs when infectious particles are breathed in or come into contact with the eyes, nose, or mouth. The risk is highest when people are in close proximity, but small airborne particles containing the virus can remain suspended in the air and travel over longer distances, particularly indoors. Transmission can also occur when people touch their eyes, nose or mouth after touching surfaces or objects that have been contaminated by the virus. People remain contagious for up to 20 days and can spread the virus even if they do not develop symptoms.[23]\\n\\nTesting methods for COVID-19 to detect the virus's nucleic acid include real-time reverse transcription polymerase chain reaction (RTâ€‘PCR),[24][25] transcription-mediated amplification,[24][25][26] and reverse transcription loop-mediated isothermal amplification (RTâ€‘LAMP)[24][25] from a nasopharyngeal swab.[27]\\n\\nSeveral COVID-19 vaccines have been approved and distributed in various countries, many of which have initiated mass vaccination campaigns. Other preventive measures include physical or social distancing, quarantining, ventilation of indoor spaces, use of face masks or coverings in public, covering coughs and sneezes, hand washing, and keeping unwashed hands away from the face. While drugs have been developed to inhibit the virus, the primary treatment is still symptomatic, managing the disease through supportive care, isolation, and experimental measures.\""
      ]
     },
     "execution_count": 5,
     "metadata": {},
     "output_type": "execute_result"
    }
   ],
   "source": [
    "txt\n"
   ]
  },
  {
   "cell_type": "code",
   "execution_count": 6,
   "id": "db2d7f23-6ac6-4da2-b183-d4095ae4685e",
   "metadata": {},
   "outputs": [
    {
     "data": {
      "text/plain": [
       "['Coronavirus disease 2019 (COVID-19) is a contagious disease caused by the coronavirus SARS-CoV-2. The first known case was identified in Wuhan, China, in December 2019.[7] Most scientists believe the SARS-CoV-2 virus entered into human populations through natural zoonosis, similar to the SARS-CoV-1 and MERS-CoV outbreaks, and consistent with other pandemics in human history.[8][9] Social and environmental factors including climate change, natural ecosystem destruction and wildlife trade increased the likelihood of such zoonotic spillover.[10][11][12][13] The disease quickly spread worldwide, resulting in the COVID-19 pandemic.',\n",
       " 'The symptoms of COVIDâ€‘19 are variable but often include fever,[14] fatigue, cough, breathing difficulties, loss of smell, and loss of taste.[15][16][17] Symptoms may begin one to fourteen days after exposure to the virus. At least a third of people who are infected do not develop noticeable symptoms.[18][19] Of those who develop symptoms noticeable enough to be classified as patients, most (81%) develop mild to moderate symptoms (up to mild pneumonia), while 14% develop severe symptoms (dyspnea, hypoxia, or more than 50% lung involvement on imaging), and 5% develop critical symptoms (respiratory failure, shock, or multiorgan dysfunction).[20] Older people are at a higher risk of developing severe symptoms. Some complications result in death. Some people continue to experience a range of effects (long COVID) for months or years after infection, and damage to organs has been observed.[21] Multi-year studies are underway to further investigate the long-term effects of the disease.[22]',\n",
       " 'COVIDâ€‘19 transmission occurs when infectious particles are breathed in or come into contact with the eyes, nose, or mouth. The risk is highest when people are in close proximity, but small airborne particles containing the virus can remain suspended in the air and travel over longer distances, particularly indoors. Transmission can also occur when people touch their eyes, nose or mouth after touching surfaces or objects that have been contaminated by the virus. People remain contagious for up to 20 days and can spread the virus even if they do not develop symptoms.[23]',\n",
       " \"Testing methods for COVID-19 to detect the virus's nucleic acid include real-time reverse transcription polymerase chain reaction (RTâ€‘PCR),[24][25] transcription-mediated amplification,[24][25][26] and reverse transcription loop-mediated isothermal amplification (RTâ€‘LAMP)[24][25] from a nasopharyngeal swab.[27]\",\n",
       " 'Several COVID-19 vaccines have been approved and distributed in various countries, many of which have initiated mass vaccination campaigns. Other preventive measures include physical or social distancing, quarantining, ventilation of indoor spaces, use of face masks or coverings in public, covering coughs and sneezes, hand washing, and keeping unwashed hands away from the face. While drugs have been developed to inhibit the virus, the primary treatment is still symptomatic, managing the disease through supportive care, isolation, and experimental measures.']"
      ]
     },
     "execution_count": 6,
     "metadata": {},
     "output_type": "execute_result"
    }
   ],
   "source": [
    "txt.split(\"\\n\\n\")"
   ]
  },
  {
   "cell_type": "code",
   "execution_count": 9,
   "id": "382e9e70-5dbc-4d95-9243-33f28ce382c2",
   "metadata": {},
   "outputs": [
    {
     "name": "stdout",
     "output_type": "stream",
     "text": [
      "5\n"
     ]
    }
   ],
   "source": [
    "print(len(txt.split(\"\\n\\n\")))"
   ]
  },
  {
   "cell_type": "markdown",
   "id": "2a2039f5-bdb7-464f-8092-d918912d7ea6",
   "metadata": {},
   "source": [
    "# Count no of lines\n"
   ]
  },
  {
   "cell_type": "code",
   "execution_count": 10,
   "id": "a2f0712e-9949-4f71-a4b6-3a53a96f1fac",
   "metadata": {},
   "outputs": [
    {
     "name": "stdout",
     "output_type": "stream",
     "text": [
      "21\n"
     ]
    }
   ],
   "source": [
    "print(txt.count('.'))"
   ]
  },
  {
   "cell_type": "code",
   "execution_count": 11,
   "id": "cef42cc0-97f4-4392-ad2b-86f56c78840a",
   "metadata": {},
   "outputs": [
    {
     "name": "stdout",
     "output_type": "stream",
     "text": [
      "22\n"
     ]
    }
   ],
   "source": [
    "print(len(txt.split('.')))"
   ]
  },
  {
   "cell_type": "code",
   "execution_count": 12,
   "id": "7942ee93-691d-4037-8de9-d0a3815678b8",
   "metadata": {},
   "outputs": [
    {
     "name": "stdout",
     "output_type": "stream",
     "text": [
      "['Coronavirus disease 2019 (COVID-19) is a contagious disease caused by the coronavirus SARS-CoV-2', ' The first known case was identified in Wuhan, China, in December 2019', '[7] Most scientists believe the SARS-CoV-2 virus entered into human populations through natural zoonosis, similar to the SARS-CoV-1 and MERS-CoV outbreaks, and consistent with other pandemics in human history', '[8][9] Social and environmental factors including climate change, natural ecosystem destruction and wildlife trade increased the likelihood of such zoonotic spillover', '[10][11][12][13] The disease quickly spread worldwide, resulting in the COVID-19 pandemic', '\\n\\nThe symptoms of COVIDâ€‘19 are variable but often include fever,[14] fatigue, cough, breathing difficulties, loss of smell, and loss of taste', '[15][16][17] Symptoms may begin one to fourteen days after exposure to the virus', ' At least a third of people who are infected do not develop noticeable symptoms', '[18][19] Of those who develop symptoms noticeable enough to be classified as patients, most (81%) develop mild to moderate symptoms (up to mild pneumonia), while 14% develop severe symptoms (dyspnea, hypoxia, or more than 50% lung involvement on imaging), and 5% develop critical symptoms (respiratory failure, shock, or multiorgan dysfunction)', '[20] Older people are at a higher risk of developing severe symptoms', ' Some complications result in death', ' Some people continue to experience a range of effects (long COVID) for months or years after infection, and damage to organs has been observed', '[21] Multi-year studies are underway to further investigate the long-term effects of the disease', '[22]\\n\\nCOVIDâ€‘19 transmission occurs when infectious particles are breathed in or come into contact with the eyes, nose, or mouth', ' The risk is highest when people are in close proximity, but small airborne particles containing the virus can remain suspended in the air and travel over longer distances, particularly indoors', ' Transmission can also occur when people touch their eyes, nose or mouth after touching surfaces or objects that have been contaminated by the virus', ' People remain contagious for up to 20 days and can spread the virus even if they do not develop symptoms', \"[23]\\n\\nTesting methods for COVID-19 to detect the virus's nucleic acid include real-time reverse transcription polymerase chain reaction (RTâ€‘PCR),[24][25] transcription-mediated amplification,[24][25][26] and reverse transcription loop-mediated isothermal amplification (RTâ€‘LAMP)[24][25] from a nasopharyngeal swab\", '[27]\\n\\nSeveral COVID-19 vaccines have been approved and distributed in various countries, many of which have initiated mass vaccination campaigns', ' Other preventive measures include physical or social distancing, quarantining, ventilation of indoor spaces, use of face masks or coverings in public, covering coughs and sneezes, hand washing, and keeping unwashed hands away from the face', ' While drugs have been developed to inhibit the virus, the primary treatment is still symptomatic, managing the disease through supportive care, isolation, and experimental measures', '']\n"
     ]
    }
   ],
   "source": [
    "print((txt.split('.')))"
   ]
  },
  {
   "cell_type": "markdown",
   "id": "0c59a767-e596-4ee1-94cf-e5f4eee1234a",
   "metadata": {},
   "source": [
    "# no of words"
   ]
  },
  {
   "cell_type": "code",
   "execution_count": 13,
   "id": "c859145d-e5dd-4ea4-8296-d73e8efd2ed4",
   "metadata": {},
   "outputs": [
    {
     "name": "stdout",
     "output_type": "stream",
     "text": [
      "431\n"
     ]
    }
   ],
   "source": [
    "print(len(txt.split(' ')))"
   ]
  },
  {
   "cell_type": "code",
   "execution_count": 14,
   "id": "4ef950b7-9b3b-4e14-816d-5bbd98c302b7",
   "metadata": {},
   "outputs": [
    {
     "name": "stdout",
     "output_type": "stream",
     "text": [
      "430\n"
     ]
    }
   ],
   "source": [
    "print(txt.count(' '))"
   ]
  },
  {
   "cell_type": "markdown",
   "id": "254ff49e-6f2b-4dfe-8c84-1be8e1c74a9c",
   "metadata": {},
   "source": [
    "# Count unique words "
   ]
  },
  {
   "cell_type": "code",
   "execution_count": 15,
   "id": "9a36fe9f-bc91-4396-9e17-2b900cab4d86",
   "metadata": {},
   "outputs": [],
   "source": [
    "lst = txt.split(' ')"
   ]
  },
  {
   "cell_type": "code",
   "execution_count": 16,
   "id": "7dfc5308-ff86-464c-97d7-1428bc2f78ec",
   "metadata": {},
   "outputs": [
    {
     "data": {
      "text/plain": [
       "['Coronavirus',\n",
       " 'disease',\n",
       " '2019',\n",
       " '(COVID-19)',\n",
       " 'is',\n",
       " 'a',\n",
       " 'contagious',\n",
       " 'disease',\n",
       " 'caused',\n",
       " 'by',\n",
       " 'the',\n",
       " 'coronavirus',\n",
       " 'SARS-CoV-2.',\n",
       " 'The',\n",
       " 'first',\n",
       " 'known',\n",
       " 'case',\n",
       " 'was',\n",
       " 'identified',\n",
       " 'in',\n",
       " 'Wuhan,',\n",
       " 'China,',\n",
       " 'in',\n",
       " 'December',\n",
       " '2019.[7]',\n",
       " 'Most',\n",
       " 'scientists',\n",
       " 'believe',\n",
       " 'the',\n",
       " 'SARS-CoV-2',\n",
       " 'virus',\n",
       " 'entered',\n",
       " 'into',\n",
       " 'human',\n",
       " 'populations',\n",
       " 'through',\n",
       " 'natural',\n",
       " 'zoonosis,',\n",
       " 'similar',\n",
       " 'to',\n",
       " 'the',\n",
       " 'SARS-CoV-1',\n",
       " 'and',\n",
       " 'MERS-CoV',\n",
       " 'outbreaks,',\n",
       " 'and',\n",
       " 'consistent',\n",
       " 'with',\n",
       " 'other',\n",
       " 'pandemics',\n",
       " 'in',\n",
       " 'human',\n",
       " 'history.[8][9]',\n",
       " 'Social',\n",
       " 'and',\n",
       " 'environmental',\n",
       " 'factors',\n",
       " 'including',\n",
       " 'climate',\n",
       " 'change,',\n",
       " 'natural',\n",
       " 'ecosystem',\n",
       " 'destruction',\n",
       " 'and',\n",
       " 'wildlife',\n",
       " 'trade',\n",
       " 'increased',\n",
       " 'the',\n",
       " 'likelihood',\n",
       " 'of',\n",
       " 'such',\n",
       " 'zoonotic',\n",
       " 'spillover.[10][11][12][13]',\n",
       " 'The',\n",
       " 'disease',\n",
       " 'quickly',\n",
       " 'spread',\n",
       " 'worldwide,',\n",
       " 'resulting',\n",
       " 'in',\n",
       " 'the',\n",
       " 'COVID-19',\n",
       " 'pandemic.\\n\\nThe',\n",
       " 'symptoms',\n",
       " 'of',\n",
       " 'COVIDâ€‘19',\n",
       " 'are',\n",
       " 'variable',\n",
       " 'but',\n",
       " 'often',\n",
       " 'include',\n",
       " 'fever,[14]',\n",
       " 'fatigue,',\n",
       " 'cough,',\n",
       " 'breathing',\n",
       " 'difficulties,',\n",
       " 'loss',\n",
       " 'of',\n",
       " 'smell,',\n",
       " 'and',\n",
       " 'loss',\n",
       " 'of',\n",
       " 'taste.[15][16][17]',\n",
       " 'Symptoms',\n",
       " 'may',\n",
       " 'begin',\n",
       " 'one',\n",
       " 'to',\n",
       " 'fourteen',\n",
       " 'days',\n",
       " 'after',\n",
       " 'exposure',\n",
       " 'to',\n",
       " 'the',\n",
       " 'virus.',\n",
       " 'At',\n",
       " 'least',\n",
       " 'a',\n",
       " 'third',\n",
       " 'of',\n",
       " 'people',\n",
       " 'who',\n",
       " 'are',\n",
       " 'infected',\n",
       " 'do',\n",
       " 'not',\n",
       " 'develop',\n",
       " 'noticeable',\n",
       " 'symptoms.[18][19]',\n",
       " 'Of',\n",
       " 'those',\n",
       " 'who',\n",
       " 'develop',\n",
       " 'symptoms',\n",
       " 'noticeable',\n",
       " 'enough',\n",
       " 'to',\n",
       " 'be',\n",
       " 'classified',\n",
       " 'as',\n",
       " 'patients,',\n",
       " 'most',\n",
       " '(81%)',\n",
       " 'develop',\n",
       " 'mild',\n",
       " 'to',\n",
       " 'moderate',\n",
       " 'symptoms',\n",
       " '(up',\n",
       " 'to',\n",
       " 'mild',\n",
       " 'pneumonia),',\n",
       " 'while',\n",
       " '14%',\n",
       " 'develop',\n",
       " 'severe',\n",
       " 'symptoms',\n",
       " '(dyspnea,',\n",
       " 'hypoxia,',\n",
       " 'or',\n",
       " 'more',\n",
       " 'than',\n",
       " '50%',\n",
       " 'lung',\n",
       " 'involvement',\n",
       " 'on',\n",
       " 'imaging),',\n",
       " 'and',\n",
       " '5%',\n",
       " 'develop',\n",
       " 'critical',\n",
       " 'symptoms',\n",
       " '(respiratory',\n",
       " 'failure,',\n",
       " 'shock,',\n",
       " 'or',\n",
       " 'multiorgan',\n",
       " 'dysfunction).[20]',\n",
       " 'Older',\n",
       " 'people',\n",
       " 'are',\n",
       " 'at',\n",
       " 'a',\n",
       " 'higher',\n",
       " 'risk',\n",
       " 'of',\n",
       " 'developing',\n",
       " 'severe',\n",
       " 'symptoms.',\n",
       " 'Some',\n",
       " 'complications',\n",
       " 'result',\n",
       " 'in',\n",
       " 'death.',\n",
       " 'Some',\n",
       " 'people',\n",
       " 'continue',\n",
       " 'to',\n",
       " 'experience',\n",
       " 'a',\n",
       " 'range',\n",
       " 'of',\n",
       " 'effects',\n",
       " '(long',\n",
       " 'COVID)',\n",
       " 'for',\n",
       " 'months',\n",
       " 'or',\n",
       " 'years',\n",
       " 'after',\n",
       " 'infection,',\n",
       " 'and',\n",
       " 'damage',\n",
       " 'to',\n",
       " 'organs',\n",
       " 'has',\n",
       " 'been',\n",
       " 'observed.[21]',\n",
       " 'Multi-year',\n",
       " 'studies',\n",
       " 'are',\n",
       " 'underway',\n",
       " 'to',\n",
       " 'further',\n",
       " 'investigate',\n",
       " 'the',\n",
       " 'long-term',\n",
       " 'effects',\n",
       " 'of',\n",
       " 'the',\n",
       " 'disease.[22]\\n\\nCOVIDâ€‘19',\n",
       " 'transmission',\n",
       " 'occurs',\n",
       " 'when',\n",
       " 'infectious',\n",
       " 'particles',\n",
       " 'are',\n",
       " 'breathed',\n",
       " 'in',\n",
       " 'or',\n",
       " 'come',\n",
       " 'into',\n",
       " 'contact',\n",
       " 'with',\n",
       " 'the',\n",
       " 'eyes,',\n",
       " 'nose,',\n",
       " 'or',\n",
       " 'mouth.',\n",
       " 'The',\n",
       " 'risk',\n",
       " 'is',\n",
       " 'highest',\n",
       " 'when',\n",
       " 'people',\n",
       " 'are',\n",
       " 'in',\n",
       " 'close',\n",
       " 'proximity,',\n",
       " 'but',\n",
       " 'small',\n",
       " 'airborne',\n",
       " 'particles',\n",
       " 'containing',\n",
       " 'the',\n",
       " 'virus',\n",
       " 'can',\n",
       " 'remain',\n",
       " 'suspended',\n",
       " 'in',\n",
       " 'the',\n",
       " 'air',\n",
       " 'and',\n",
       " 'travel',\n",
       " 'over',\n",
       " 'longer',\n",
       " 'distances,',\n",
       " 'particularly',\n",
       " 'indoors.',\n",
       " 'Transmission',\n",
       " 'can',\n",
       " 'also',\n",
       " 'occur',\n",
       " 'when',\n",
       " 'people',\n",
       " 'touch',\n",
       " 'their',\n",
       " 'eyes,',\n",
       " 'nose',\n",
       " 'or',\n",
       " 'mouth',\n",
       " 'after',\n",
       " 'touching',\n",
       " 'surfaces',\n",
       " 'or',\n",
       " 'objects',\n",
       " 'that',\n",
       " 'have',\n",
       " 'been',\n",
       " 'contaminated',\n",
       " 'by',\n",
       " 'the',\n",
       " 'virus.',\n",
       " 'People',\n",
       " 'remain',\n",
       " 'contagious',\n",
       " 'for',\n",
       " 'up',\n",
       " 'to',\n",
       " '20',\n",
       " 'days',\n",
       " 'and',\n",
       " 'can',\n",
       " 'spread',\n",
       " 'the',\n",
       " 'virus',\n",
       " 'even',\n",
       " 'if',\n",
       " 'they',\n",
       " 'do',\n",
       " 'not',\n",
       " 'develop',\n",
       " 'symptoms.[23]\\n\\nTesting',\n",
       " 'methods',\n",
       " 'for',\n",
       " 'COVID-19',\n",
       " 'to',\n",
       " 'detect',\n",
       " 'the',\n",
       " \"virus's\",\n",
       " 'nucleic',\n",
       " 'acid',\n",
       " 'include',\n",
       " 'real-time',\n",
       " 'reverse',\n",
       " 'transcription',\n",
       " 'polymerase',\n",
       " 'chain',\n",
       " 'reaction',\n",
       " '(RTâ€‘PCR),[24][25]',\n",
       " 'transcription-mediated',\n",
       " 'amplification,[24][25][26]',\n",
       " 'and',\n",
       " 'reverse',\n",
       " 'transcription',\n",
       " 'loop-mediated',\n",
       " 'isothermal',\n",
       " 'amplification',\n",
       " '(RTâ€‘LAMP)[24][25]',\n",
       " 'from',\n",
       " 'a',\n",
       " 'nasopharyngeal',\n",
       " 'swab.[27]\\n\\nSeveral',\n",
       " 'COVID-19',\n",
       " 'vaccines',\n",
       " 'have',\n",
       " 'been',\n",
       " 'approved',\n",
       " 'and',\n",
       " 'distributed',\n",
       " 'in',\n",
       " 'various',\n",
       " 'countries,',\n",
       " 'many',\n",
       " 'of',\n",
       " 'which',\n",
       " 'have',\n",
       " 'initiated',\n",
       " 'mass',\n",
       " 'vaccination',\n",
       " 'campaigns.',\n",
       " 'Other',\n",
       " 'preventive',\n",
       " 'measures',\n",
       " 'include',\n",
       " 'physical',\n",
       " 'or',\n",
       " 'social',\n",
       " 'distancing,',\n",
       " 'quarantining,',\n",
       " 'ventilation',\n",
       " 'of',\n",
       " 'indoor',\n",
       " 'spaces,',\n",
       " 'use',\n",
       " 'of',\n",
       " 'face',\n",
       " 'masks',\n",
       " 'or',\n",
       " 'coverings',\n",
       " 'in',\n",
       " 'public,',\n",
       " 'covering',\n",
       " 'coughs',\n",
       " 'and',\n",
       " 'sneezes,',\n",
       " 'hand',\n",
       " 'washing,',\n",
       " 'and',\n",
       " 'keeping',\n",
       " 'unwashed',\n",
       " 'hands',\n",
       " 'away',\n",
       " 'from',\n",
       " 'the',\n",
       " 'face.',\n",
       " 'While',\n",
       " 'drugs',\n",
       " 'have',\n",
       " 'been',\n",
       " 'developed',\n",
       " 'to',\n",
       " 'inhibit',\n",
       " 'the',\n",
       " 'virus,',\n",
       " 'the',\n",
       " 'primary',\n",
       " 'treatment',\n",
       " 'is',\n",
       " 'still',\n",
       " 'symptomatic,',\n",
       " 'managing',\n",
       " 'the',\n",
       " 'disease',\n",
       " 'through',\n",
       " 'supportive',\n",
       " 'care,',\n",
       " 'isolation,',\n",
       " 'and',\n",
       " 'experimental',\n",
       " 'measures.']"
      ]
     },
     "execution_count": 16,
     "metadata": {},
     "output_type": "execute_result"
    }
   ],
   "source": [
    "lst"
   ]
  },
  {
   "cell_type": "code",
   "execution_count": 17,
   "id": "72dd09f0-3498-4d9b-b4c5-607ffdd9a24c",
   "metadata": {},
   "outputs": [],
   "source": [
    "# create a set "
   ]
  },
  {
   "cell_type": "code",
   "execution_count": 18,
   "id": "062433c2-d8be-4a65-ab5a-247da7aa7e92",
   "metadata": {},
   "outputs": [
    {
     "name": "stdout",
     "output_type": "stream",
     "text": [
      "287\n"
     ]
    }
   ],
   "source": [
    "st = set(lst)\n",
    "print(len(st))"
   ]
  },
  {
   "cell_type": "markdown",
   "id": "2a0edd70-35b6-4bf0-996a-bf945f6556e3",
   "metadata": {},
   "source": [
    "# remove unwanted data from file\n"
   ]
  },
  {
   "cell_type": "code",
   "execution_count": 19,
   "id": "43c2ea27-20bd-431b-b608-8648f18453b7",
   "metadata": {},
   "outputs": [
    {
     "data": {
      "text/plain": [
       "\"Coronavirus disease 2019 (COVID-19) is a contagious disease caused by the coronavirus SARS-CoV-2. The first known case was identified in Wuhan, China, in December 2019.[7] Most scientists believe the SARS-CoV-2 virus entered into human populations through natural zoonosis, similar to the SARS-CoV-1 and MERS-CoV outbreaks, and consistent with other pandemics in human history.[8][9] Social and environmental factors including climate change, natural ecosystem destruction and wildlife trade increased the likelihood of such zoonotic spillover.[10][11][12][13] The disease quickly spread worldwide, resulting in the COVID-19 pandemic.\\n\\nThe symptoms of COVIDâ€‘19 are variable but often include fever,[14] fatigue, cough, breathing difficulties, loss of smell, and loss of taste.[15][16][17] Symptoms may begin one to fourteen days after exposure to the virus. At least a third of people who are infected do not develop noticeable symptoms.[18][19] Of those who develop symptoms noticeable enough to be classified as patients, most (81%) develop mild to moderate symptoms (up to mild pneumonia), while 14% develop severe symptoms (dyspnea, hypoxia, or more than 50% lung involvement on imaging), and 5% develop critical symptoms (respiratory failure, shock, or multiorgan dysfunction).[20] Older people are at a higher risk of developing severe symptoms. Some complications result in death. Some people continue to experience a range of effects (long COVID) for months or years after infection, and damage to organs has been observed.[21] Multi-year studies are underway to further investigate the long-term effects of the disease.[22]\\n\\nCOVIDâ€‘19 transmission occurs when infectious particles are breathed in or come into contact with the eyes, nose, or mouth. The risk is highest when people are in close proximity, but small airborne particles containing the virus can remain suspended in the air and travel over longer distances, particularly indoors. Transmission can also occur when people touch their eyes, nose or mouth after touching surfaces or objects that have been contaminated by the virus. People remain contagious for up to 20 days and can spread the virus even if they do not develop symptoms.[23]\\n\\nTesting methods for COVID-19 to detect the virus's nucleic acid include real-time reverse transcription polymerase chain reaction (RTâ€‘PCR),[24][25] transcription-mediated amplification,[24][25][26] and reverse transcription loop-mediated isothermal amplification (RTâ€‘LAMP)[24][25] from a nasopharyngeal swab.[27]\\n\\nSeveral COVID-19 vaccines have been approved and distributed in various countries, many of which have initiated mass vaccination campaigns. Other preventive measures include physical or social distancing, quarantining, ventilation of indoor spaces, use of face masks or coverings in public, covering coughs and sneezes, hand washing, and keeping unwashed hands away from the face. While drugs have been developed to inhibit the virus, the primary treatment is still symptomatic, managing the disease through supportive care, isolation, and experimental measures.\""
      ]
     },
     "execution_count": 19,
     "metadata": {},
     "output_type": "execute_result"
    }
   ],
   "source": [
    "txt"
   ]
  },
  {
   "cell_type": "code",
   "execution_count": 32,
   "id": "3af449dc-2a97-4740-95a9-7effa7787565",
   "metadata": {},
   "outputs": [
    {
     "name": "stdout",
     "output_type": "stream",
     "text": [
      "Coronavirus disease 2019 (COVID-19) is a contagious disease caused by the coronavirus SARS-CoV-2. The first known case was identified in Wuhan, China, in December 2019. Most scientists believe the SARS-CoV-2 virus entered into human populations through natural zoonosis, similar to the SARS-CoV-1 and MERS-CoV outbreaks, and consistent with other pandemics in human history. Social and environmental factors including climate change, natural ecosystem destruction and wildlife trade increased the likelihood of such zoonotic spillover. The disease quickly spread worldwide, resulting in the COVID-19 pandemic.\n",
      "\n",
      "The symptoms of COVIDâ€‘19 are variable but often include fever, fatigue, cough, breathing difficulties, loss of smell, and loss of taste. Symptoms may begin one to fourteen days after exposure to the virus. At least a third of people who are infected do not develop noticeable symptoms. Of those who develop symptoms noticeable enough to be classified as patients, most (81%) develop mild to moderate symptoms (up to mild pneumonia), while 14% develop severe symptoms (dyspnea, hypoxia, or more than 50% lung involvement on imaging), and 5% develop critical symptoms (respiratory failure, shock, or multiorgan dysfunction). Older people are at a higher risk of developing severe symptoms. Some complications result in death. Some people continue to experience a range of effects (long COVID) for months or years after infection, and damage to organs has been observed. Multi-year studies are underway to further investigate the long-term effects of the disease.\n",
      "\n",
      "COVIDâ€‘19 transmission occurs when infectious particles are breathed in or come into contact with the eyes, nose, or mouth. The risk is highest when people are in close proximity, but small airborne particles containing the virus can remain suspended in the air and travel over longer distances, particularly indoors. Transmission can also occur when people touch their eyes, nose or mouth after touching surfaces or objects that have been contaminated by the virus. People remain contagious for up to 20 days and can spread the virus even if they do not develop symptoms.\n",
      "\n",
      "Testing methods for COVID-19 to detect the virus's nucleic acid include real-time reverse transcription polymerase chain reaction (RTâ€‘PCR), transcription-mediated amplification, and reverse transcription loop-mediated isothermal amplification (RTâ€‘LAMP) from a nasopharyngeal swab.[27]\n",
      "\n",
      "Several COVID-19 vaccines have been approved and distributed in various countries, many of which have initiated mass vaccination campaigns. Other preventive measures include physical or social distancing, quarantining, ventilation of indoor spaces, use of face masks or coverings in public, covering coughs and sneezes, hand washing, and keeping unwashed hands away from the face. While drugs have been developed to inhibit the virus, the primary treatment is still symptomatic, managing the disease through supportive care, isolation, and experimental measures.\n"
     ]
    }
   ],
   "source": [
    "for i in range(7,27):\n",
    "    sr = \"[\"+str(i)+\"]\"\n",
    "    txt = txt.replace(sr,\"\")\n",
    "print(txt)    "
   ]
  },
  {
   "cell_type": "code",
   "execution_count": null,
   "id": "1e78eea3-a63f-4166-a0a8-004ad8fd8451",
   "metadata": {},
   "outputs": [],
   "source": []
  }
 ],
 "metadata": {
  "kernelspec": {
   "display_name": "Python 3 (ipykernel)",
   "language": "python",
   "name": "python3"
  },
  "language_info": {
   "codemirror_mode": {
    "name": "ipython",
    "version": 3
   },
   "file_extension": ".py",
   "mimetype": "text/x-python",
   "name": "python",
   "nbconvert_exporter": "python",
   "pygments_lexer": "ipython3",
   "version": "3.11.7"
  }
 },
 "nbformat": 4,
 "nbformat_minor": 5
}
