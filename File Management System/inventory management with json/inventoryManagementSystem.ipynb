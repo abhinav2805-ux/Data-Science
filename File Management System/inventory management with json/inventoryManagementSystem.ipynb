{
 "cells": [
  {
   "cell_type": "code",
   "execution_count": 8,
   "metadata": {},
   "outputs": [
    {
     "name": "stdout",
     "output_type": "stream",
     "text": [
      "-----------------------MENU----------------------\n",
      "\n",
      "1001 : 5 star | 10.0 | 42\n",
      "1002 : Bar-one | 15.0 | 38\n",
      "1003 : Candy | 5.0 | 98\n",
      "1004 : Chocolate Cake | 100.0 | 10\n",
      "1005 : Blueberry Cake | 120.0 | 5\n",
      "--------------------------------------------------\n",
      "\n",
      "-------------------BILL----------------------------\n",
      "\n",
      "Name of Product          : Blueberry Cake\n",
      "Price of product         : 120.0 Rs\n",
      "Quantity Customer wants  : 2\n",
      "--------------------------------------------------\n",
      "\n",
      "Billing Amount           : 240.0 Rs\n",
      "--------------------------------------------------\n",
      "\n",
      "1,Abhi,abhi@gmail.com,369852365,1005,Blueberry Cake,2,120.0,240.0,Wed Nov  6 17:40:54 2024\n",
      "\n"
     ]
    }
   ],
   "source": [
    "import json\n",
    "import time \n",
    "\n",
    "fd = open(\"Records.json\",'r')\n",
    "js = fd.read()\n",
    "fd.close()\n",
    "\n",
    "record = json.loads(js)  # convert string to python function (object)\n",
    "\n",
    "\n",
    "\n",
    "print(\"-----------------------MENU----------------------\\n\")\n",
    "\n",
    "for key in record.keys():\n",
    "    print(key ,\":\" ,record[key][\"Name\"],\"|\",record[key][\"Price\"],\"|\",record[key][\"Quantity\"])\n",
    "\n",
    "print(\"--------------------------------------------------\\n\")\n",
    "\n",
    "ui_name = str(input(\"Enter your Name: \"))\n",
    "ui_phone = str(input(\"Enter your Phone Number: \"))\n",
    "ui_mail = str(input(\"Enter your Email: \"))\n",
    "ui_pr = str(input(\"Enter the Product ID: \"))\n",
    "ui_qn = int(input(\"Enter the Quantity: \"))    \n",
    "if (record[ui_pr][\"Quantity\"] >= ui_qn):\n",
    "    record[ui_pr][\"Quantity\"] = record[ui_pr][\"Quantity\"]-ui_qn\n",
    "\n",
    "    print(\"-------------------BILL----------------------------\\n\")\n",
    "    print(\"Name of Product          :\",record[ui_pr][\"Name\"])\n",
    "    print(\"Price of product         :\",record[ui_pr][\"Price\"],\"Rs\")\n",
    "    print(\"Quantity Customer wants  :\",ui_qn)\n",
    "\n",
    "    print(\"--------------------------------------------------\\n\")\n",
    "    print(\"Billing Amount           :\",record[ui_pr][\"Price\"]*ui_qn,\"Rs\")\n",
    "    print(\"--------------------------------------------------\\n\")\n",
    "    sale = '1'+\",\"+ui_name+\",\"+ui_mail+\",\"+ui_phone+\",\"+ui_pr+\",\"+record[ui_pr][\"Name\"]+\",\"+str(ui_qn)+\",\"+str(record[ui_pr][\"Price\"])+\",\"+str(ui_qn * record[ui_pr][\"Price\"])+\",\"+time.ctime()+\"\\n\"\n",
    "    \n",
    "    js = json.dumps(record)  # convert python function to string\n",
    "    fd = open(\"Records.json\",\"w\")\n",
    "    fd.write(js)\n",
    "    fd.close()\n",
    "    print(sale)\n",
    "    \n",
    "    fd = open('Sales.txt','a')\n",
    "    fd.write(sale)\n",
    "    fd.close()\n",
    "    \n",
    "else:\n",
    "    print(\"No enough quantity Available\")\n",
    "\n"
   ]
  },
  {
   "cell_type": "code",
   "execution_count": 2,
   "metadata": {},
   "outputs": [
    {
     "data": {
      "text/plain": [
       "{'1001': {'Product ID': 1001, 'Name': '5 star', 'Price': 10.0, 'Quantity': 42},\n",
       " '1002': {'Product ID': 1002,\n",
       "  'Name': 'Bar-one',\n",
       "  'Price': 15.0,\n",
       "  'Quantity': 38},\n",
       " '1003': {'Product ID': 1003, 'Name': 'Candy', 'Price': 5.0, 'Quantity': 100},\n",
       " '1004': {'Product ID': 1004,\n",
       "  'Name': 'Chocolate Cake',\n",
       "  'Price': 100.0,\n",
       "  'Quantity': 10},\n",
       " '1005': {'Product ID': 1005,\n",
       "  'Name': 'Blueberry Cake',\n",
       "  'Price': 120.0,\n",
       "  'Quantity': 5}}"
      ]
     },
     "execution_count": 2,
     "metadata": {},
     "output_type": "execute_result"
    }
   ],
   "source": [
    "record"
   ]
  },
  {
   "cell_type": "code",
   "execution_count": null,
   "metadata": {},
   "outputs": [],
   "source": []
  }
 ],
 "metadata": {
  "kernelspec": {
   "display_name": "Python 3",
   "language": "python",
   "name": "python3"
  },
  "language_info": {
   "codemirror_mode": {
    "name": "ipython",
    "version": 3
   },
   "file_extension": ".py",
   "mimetype": "text/x-python",
   "name": "python",
   "nbconvert_exporter": "python",
   "pygments_lexer": "ipython3",
   "version": "3.12.1"
  }
 },
 "nbformat": 4,
 "nbformat_minor": 2
}
